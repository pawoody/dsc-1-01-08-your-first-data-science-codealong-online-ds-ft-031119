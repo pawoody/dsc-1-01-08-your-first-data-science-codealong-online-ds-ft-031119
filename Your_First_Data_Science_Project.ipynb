{
 "cells": [
  {
   "cell_type": "code",
   "execution_count": 2,
   "metadata": {},
   "outputs": [
    {
     "name": "stdout",
     "output_type": "stream",
     "text": [
      "This is code being run.\n"
     ]
    }
   ],
   "source": [
    "print('This is code being run.')"
   ]
  },
  {
   "cell_type": "markdown",
   "metadata": {},
   "source": [
    "## Importing Packages\n",
    "The next thing we're going to do is load in some python packages that will be part of our toolbox for manipulating and analyzing data. The standard python package for working with data tables is called **pandas**. Below, we import this under the **alias** pd, which is the industry standard. This will give us a shorthand way to access special functions and methods within the package without having to type the longer name pandas. \n",
    "\n",
    "* Again, press **shift+enter** to run the code below"
   ]
  },
  {
   "cell_type": "code",
   "execution_count": 41,
   "metadata": {},
   "outputs": [],
   "source": [
    "import numpy as np"
   ]
  },
  {
   "cell_type": "code",
   "execution_count": 4,
   "metadata": {},
   "outputs": [],
   "source": [
    "import pandas as pd\n",
    "import matplotlib.pyplot as plt\n",
    "%matplotlib inline"
   ]
  },
  {
   "cell_type": "markdown",
   "metadata": {},
   "source": [
    "# Jupyter Notebook Cell Types\n",
    "\n",
    "You might have started to notice that the code blocks have little notes that say **In [ ]:** before you run them, and then are filled with a number after you run them. This is important, as it tells you what order cell blocks were run. (Which can sometimes affect how a program runs.)\n",
    "\n",
    "You may also notice that other cell blocks, such as this one, do not have the **In [ ]:** label as with the code blocks. This is because this cell block is formatted as **Markdown** rather then code. You can see (and change) what type of cell is by clicking the dropdown menu at the top:\n",
    "<img src=\"Jupyter_Notebook_Cell_Type_Dropdown.png\" width=600>"
   ]
  },
  {
   "cell_type": "code",
   "execution_count": null,
   "metadata": {},
   "outputs": [],
   "source": []
  },
  {
   "cell_type": "markdown",
   "metadata": {},
   "source": [
    "# Command Versus Edit Mode\n",
    "\n",
    "You should also start to notice that when you are in a cell writing code (or notes), the cell is highlighted in **green** meaning you are in **edit mode**. \n",
    "\n",
    "Alternatively, if you **press esc**, the cursor will be in **blue** inidicating that you are in **command mode**.\n",
    "\n",
    "### Edit Mode\n",
    "Edit mode is the standard mode for editing cells, whether its writing code or notes.\n",
    "To enter edit mode from command mode simply hit enter, or double click on a cell.\n",
    "\n",
    "### Command Mode\n",
    "In command mode, you can delete cells, add cells, copy cells, paste cells, change cell types, and more. You can also do these tasks in a more cumbersome (and time consuming) manner by using the various headers in the menu bar at top.\n",
    "<img src=\"Jupyter_Menu.png\" width=600>\n",
    "You can also see a full list of shortcuts available in command and edit mode under the help menu.\n",
    "\n",
    "<img src=\"Jupyter_Help_Menu.png\" width=600>"
   ]
  },
  {
   "cell_type": "markdown",
   "metadata": {},
   "source": [
    "# Running Bash Commands\n",
    "\n",
    "We can also run bash commands just as we did before from the terminal directly within iPython notebooks!  \n",
    " (Note: bash commands cannot be mixed with python and must be in their own cell block.)   \n",
    " \n",
    "Try it out!"
   ]
  },
  {
   "cell_type": "code",
   "execution_count": 5,
   "metadata": {},
   "outputs": [
    {
     "data": {
      "text/plain": [
       "'/Users/paulwoody/Documents/Python/Flatiron_DSI/Course Material/section01/First_Codealong/dsc-1-01-08-your-first-data-science-codealong-online-ds-ft-031119'"
      ]
     },
     "execution_count": 5,
     "metadata": {},
     "output_type": "execute_result"
    }
   ],
   "source": [
    "pwd"
   ]
  },
  {
   "cell_type": "code",
   "execution_count": 6,
   "metadata": {},
   "outputs": [
    {
     "name": "stdout",
     "output_type": "stream",
     "text": [
      "CONTRIBUTING.md\r\n",
      "Jupyter_Help_Menu.png\r\n",
      "Jupyter_Menu.png\r\n",
      "Jupyter_Notebook_Cell_Type_Dropdown.png\r\n",
      "LICENSE.md\r\n",
      "README.md\r\n",
      "docstring.png\r\n",
      "docstring_preview.png\r\n",
      "index.ipynb\r\n",
      "\u001b[34mindex_files\u001b[m\u001b[m/\r\n",
      "\u001b[31mlego_sets.csv\u001b[m\u001b[m*\r\n",
      "pd_methods.png\r\n",
      "pd_read_methods.png\r\n",
      "python_built_in_functions.png\r\n",
      "string-slicing.png\r\n"
     ]
    }
   ],
   "source": [
    "ls"
   ]
  },
  {
   "cell_type": "markdown",
   "metadata": {},
   "source": [
    "## Loading a DataFrame\n",
    "The primary datatype within the pandas package is called a dataframe and is similar to a spreadsheet in excel. Here's a brief example of loading a csv file from your hard drive:"
   ]
  },
  {
   "cell_type": "code",
   "execution_count": 7,
   "metadata": {},
   "outputs": [
    {
     "name": "stdout",
     "output_type": "stream",
     "text": [
      "12261\n"
     ]
    },
    {
     "data": {
      "text/html": [
       "<div>\n",
       "<style scoped>\n",
       "    .dataframe tbody tr th:only-of-type {\n",
       "        vertical-align: middle;\n",
       "    }\n",
       "\n",
       "    .dataframe tbody tr th {\n",
       "        vertical-align: top;\n",
       "    }\n",
       "\n",
       "    .dataframe thead th {\n",
       "        text-align: right;\n",
       "    }\n",
       "</style>\n",
       "<table border=\"1\" class=\"dataframe\">\n",
       "  <thead>\n",
       "    <tr style=\"text-align: right;\">\n",
       "      <th></th>\n",
       "      <th>ages</th>\n",
       "      <th>list_price</th>\n",
       "      <th>num_reviews</th>\n",
       "      <th>piece_count</th>\n",
       "      <th>play_star_rating</th>\n",
       "      <th>prod_desc</th>\n",
       "      <th>prod_id</th>\n",
       "      <th>prod_long_desc</th>\n",
       "      <th>review_difficulty</th>\n",
       "      <th>set_name</th>\n",
       "      <th>star_rating</th>\n",
       "      <th>theme_name</th>\n",
       "      <th>val_star_rating</th>\n",
       "      <th>country</th>\n",
       "    </tr>\n",
       "  </thead>\n",
       "  <tbody>\n",
       "    <tr>\n",
       "      <th>0</th>\n",
       "      <td>6-12</td>\n",
       "      <td>29.99</td>\n",
       "      <td>2.0</td>\n",
       "      <td>277.0</td>\n",
       "      <td>4.0</td>\n",
       "      <td>Catapult into action and take back the eggs fr...</td>\n",
       "      <td>75823.0</td>\n",
       "      <td>Use the staircase catapult to launch Red into ...</td>\n",
       "      <td>Average</td>\n",
       "      <td>Bird Island Egg Heist</td>\n",
       "      <td>4.5</td>\n",
       "      <td>Angry Birds™</td>\n",
       "      <td>4.0</td>\n",
       "      <td>US</td>\n",
       "    </tr>\n",
       "    <tr>\n",
       "      <th>1</th>\n",
       "      <td>6-12</td>\n",
       "      <td>19.99</td>\n",
       "      <td>2.0</td>\n",
       "      <td>168.0</td>\n",
       "      <td>4.0</td>\n",
       "      <td>Launch a flying attack and rescue the eggs fro...</td>\n",
       "      <td>75822.0</td>\n",
       "      <td>Pilot Pig has taken off from Bird Island with ...</td>\n",
       "      <td>Easy</td>\n",
       "      <td>Piggy Plane Attack</td>\n",
       "      <td>5.0</td>\n",
       "      <td>Angry Birds™</td>\n",
       "      <td>4.0</td>\n",
       "      <td>US</td>\n",
       "    </tr>\n",
       "    <tr>\n",
       "      <th>2</th>\n",
       "      <td>6-12</td>\n",
       "      <td>12.99</td>\n",
       "      <td>11.0</td>\n",
       "      <td>74.0</td>\n",
       "      <td>4.3</td>\n",
       "      <td>Chase the piggy with lightning-fast Chuck and ...</td>\n",
       "      <td>75821.0</td>\n",
       "      <td>Pitch speedy bird Chuck against the Piggy Car....</td>\n",
       "      <td>Easy</td>\n",
       "      <td>Piggy Car Escape</td>\n",
       "      <td>4.3</td>\n",
       "      <td>Angry Birds™</td>\n",
       "      <td>4.1</td>\n",
       "      <td>US</td>\n",
       "    </tr>\n",
       "    <tr>\n",
       "      <th>3</th>\n",
       "      <td>12+</td>\n",
       "      <td>99.99</td>\n",
       "      <td>23.0</td>\n",
       "      <td>1032.0</td>\n",
       "      <td>3.6</td>\n",
       "      <td>Explore the architecture of the United States ...</td>\n",
       "      <td>21030.0</td>\n",
       "      <td>Discover the architectural secrets of the icon...</td>\n",
       "      <td>Average</td>\n",
       "      <td>United States Capitol Building</td>\n",
       "      <td>4.6</td>\n",
       "      <td>Architecture</td>\n",
       "      <td>4.3</td>\n",
       "      <td>US</td>\n",
       "    </tr>\n",
       "    <tr>\n",
       "      <th>4</th>\n",
       "      <td>12+</td>\n",
       "      <td>79.99</td>\n",
       "      <td>14.0</td>\n",
       "      <td>744.0</td>\n",
       "      <td>3.2</td>\n",
       "      <td>Recreate the Solomon R. Guggenheim Museum® wit...</td>\n",
       "      <td>21035.0</td>\n",
       "      <td>Discover the architectural secrets of Frank Ll...</td>\n",
       "      <td>Challenging</td>\n",
       "      <td>Solomon R. Guggenheim Museum®</td>\n",
       "      <td>4.6</td>\n",
       "      <td>Architecture</td>\n",
       "      <td>4.1</td>\n",
       "      <td>US</td>\n",
       "    </tr>\n",
       "  </tbody>\n",
       "</table>\n",
       "</div>"
      ],
      "text/plain": [
       "   ages  list_price  num_reviews  piece_count  play_star_rating  \\\n",
       "0  6-12       29.99          2.0        277.0               4.0   \n",
       "1  6-12       19.99          2.0        168.0               4.0   \n",
       "2  6-12       12.99         11.0         74.0               4.3   \n",
       "3   12+       99.99         23.0       1032.0               3.6   \n",
       "4   12+       79.99         14.0        744.0               3.2   \n",
       "\n",
       "                                           prod_desc  prod_id  \\\n",
       "0  Catapult into action and take back the eggs fr...  75823.0   \n",
       "1  Launch a flying attack and rescue the eggs fro...  75822.0   \n",
       "2  Chase the piggy with lightning-fast Chuck and ...  75821.0   \n",
       "3  Explore the architecture of the United States ...  21030.0   \n",
       "4  Recreate the Solomon R. Guggenheim Museum® wit...  21035.0   \n",
       "\n",
       "                                      prod_long_desc review_difficulty  \\\n",
       "0  Use the staircase catapult to launch Red into ...           Average   \n",
       "1  Pilot Pig has taken off from Bird Island with ...              Easy   \n",
       "2  Pitch speedy bird Chuck against the Piggy Car....              Easy   \n",
       "3  Discover the architectural secrets of the icon...           Average   \n",
       "4  Discover the architectural secrets of Frank Ll...       Challenging   \n",
       "\n",
       "                         set_name  star_rating    theme_name  val_star_rating  \\\n",
       "0           Bird Island Egg Heist          4.5  Angry Birds™              4.0   \n",
       "1              Piggy Plane Attack          5.0  Angry Birds™              4.0   \n",
       "2                Piggy Car Escape          4.3  Angry Birds™              4.1   \n",
       "3  United States Capitol Building          4.6  Architecture              4.3   \n",
       "4   Solomon R. Guggenheim Museum®          4.6  Architecture              4.1   \n",
       "\n",
       "  country  \n",
       "0      US  \n",
       "1      US  \n",
       "2      US  \n",
       "3      US  \n",
       "4      US  "
      ]
     },
     "execution_count": 7,
     "metadata": {},
     "output_type": "execute_result"
    }
   ],
   "source": [
    "df = pd.read_csv('lego_sets.csv') #Loads the dataframe in\n",
    "print(len(df)) #Prints the length of the dataframe\n",
    "df.head() #Uses a built in method common to all Pandas Dataframes"
   ]
  },
  {
   "cell_type": "markdown",
   "metadata": {},
   "source": [
    "# Python Comments\n",
    "\n",
    "Note the green text following the **#**.  \n",
    "Anything following a **#** in python is a comment and will not actually execute.  \n",
    "This is a useful feature for annotating your code with notes for yourself and other later so that your code is easy to read."
   ]
  },
  {
   "cell_type": "markdown",
   "metadata": {},
   "source": [
    "# Accessing Methods from Packages and Objects\n",
    "\n",
    "A little more theory and context:\n",
    "\n",
    "When we loaded in packages on our first cell block (import pandas as pd), we loaded code into memory. That code included functions, variables and other objects. Collectively, all of these items is loaded under the package name or alias.  \n",
    "\n",
    "We demonstrated this when we used the **pd.read_csv()** method above.  \n",
    "\n",
    "This also demonstrates the **dot notation** in python, which is how we access built in methods or attriubtes of a given object. Similar to what we saw with bash in the command line, we can also use **tab completion** to preview methods available in packages or other objects.  \n",
    "\n",
    "### Try this out yourself\n",
    "\n",
    "* In the cell below, navigate your cursor to the right of **pd.**\n",
    "* Press tab to see a list of available methods/attributes\n",
    "\n",
    "<img src=\"pd_methods.png\" width=600>"
   ]
  },
  {
   "cell_type": "code",
   "execution_count": null,
   "metadata": {},
   "outputs": [],
   "source": [
    "pd."
   ]
  },
  {
   "cell_type": "markdown",
   "metadata": {},
   "source": [
    "You can also start typing to subset the list of available commands:\n",
    "<img src=\"pd_read_methods.png\" width=600>"
   ]
  },
  {
   "cell_type": "markdown",
   "metadata": {},
   "source": [
    "# Pulling up Docstrings\n",
    "\n",
    "Even better, you can even see how a method works by pulling up its **docstring**!  \n",
    "You can do this by writing **?** after the method and running the cell.\n",
    "\n",
    "<img src=\"docstring.png\" width=500> \n",
    "\n",
    "\n",
    "Try it out!"
   ]
  },
  {
   "cell_type": "code",
   "execution_count": 8,
   "metadata": {},
   "outputs": [],
   "source": [
    "pd.read_csv?"
   ]
  },
  {
   "cell_type": "markdown",
   "metadata": {},
   "source": [
    "Alternatively, you can pull up a preview of the docstring by pressing **shift+tab within the parentheses of a method**\n",
    "<img src=\"docstring_preview.png\" width=500>"
   ]
  },
  {
   "cell_type": "code",
   "execution_count": 35,
   "metadata": {},
   "outputs": [
    {
     "ename": "TypeError",
     "evalue": "parser_f() missing 1 required positional argument: 'filepath_or_buffer'",
     "output_type": "error",
     "traceback": [
      "\u001b[0;31m---------------------------------------------------------------------------\u001b[0m",
      "\u001b[0;31mTypeError\u001b[0m                                 Traceback (most recent call last)",
      "\u001b[0;32m<ipython-input-35-59ba97e74ff2>\u001b[0m in \u001b[0;36m<module>\u001b[0;34m\u001b[0m\n\u001b[0;32m----> 1\u001b[0;31m \u001b[0mpd\u001b[0m\u001b[0;34m.\u001b[0m\u001b[0mread_csv\u001b[0m\u001b[0;34m(\u001b[0m\u001b[0;34m)\u001b[0m \u001b[0;31m#Move your cursor inside the parentheses and press shift+tab\u001b[0m\u001b[0;34m\u001b[0m\u001b[0;34m\u001b[0m\u001b[0m\n\u001b[0m",
      "\u001b[0;31mTypeError\u001b[0m: parser_f() missing 1 required positional argument: 'filepath_or_buffer'"
     ]
    }
   ],
   "source": [
    "pd.read_csv() #Move your cursor inside the parentheses and press shift+tab"
   ]
  },
  {
   "cell_type": "markdown",
   "metadata": {},
   "source": [
    "# Variables\n",
    "\n",
    "The other thing that happened in our block of code above was that we defined a **variable**.  \n",
    "\n",
    "This happened in the first line of code:  \n",
    "```df = pd.read_csv('lego_sets.csv')```\n",
    "\n",
    "As we saw, we used the built in *read_csv* method from the *pandas* package which we imported under the *alias* *pd*.  \n",
    "\n",
    "The output of this method was then assigned to the variable *df*. This is the standard syntax for declaring any variable. You do not have to specify variable types, as in many other programming languages. Simply:  \n",
    "\n",
    "`variable_name = what_to_stor_in_the_variable`"
   ]
  },
  {
   "cell_type": "markdown",
   "metadata": {},
   "source": [
    "# Built in Python Functions\n",
    "\n",
    "We also used two built in python functions:  \n",
    "    * len() #Returns the lenght of an object\n",
    "    * print() #Prints stuff!\n",
    "In general, **python has reserved keywords** for built in functions like this. \n",
    "**Be sure to not name your variables any of these!**\n",
    "\n",
    "<img src=\"python_built_in_functions.png\" width=600>"
   ]
  },
  {
   "cell_type": "markdown",
   "metadata": {},
   "source": [
    "You can also check what type of object something is using the built in **type()** method. This can be useful when determining how to work with an object that you are unfamiliar with."
   ]
  },
  {
   "cell_type": "code",
   "execution_count": 9,
   "metadata": {},
   "outputs": [
    {
     "data": {
      "text/plain": [
       "pandas.core.frame.DataFrame"
      ]
     },
     "execution_count": 9,
     "metadata": {},
     "output_type": "execute_result"
    }
   ],
   "source": [
    "type(df)"
   ]
  },
  {
   "cell_type": "markdown",
   "metadata": {},
   "source": [
    "# Common DataFrame Methods\n",
    "As you can see, our variable **df** is a DataFrame object (which is part of the Pandas core package). Here's some other common methods you will want to become familiar with when working with Pandas dataframes:  \n",
    "* df.head() \n",
    "    * Preview the first 5 rows of a dataframe. Pass a number for more/less rows\n",
    "* df.tail(10) \n",
    "    * Preview last 10 rows (default 5 if no number given)\n",
    "* df.info() \n",
    "    * Returns column names and details about each column\n",
    "* df.columns \n",
    "    * Return column names. Note that there is no parentheses for this. This is becuase this is an attribute as opposed to a method"
   ]
  },
  {
   "cell_type": "code",
   "execution_count": 37,
   "metadata": {},
   "outputs": [],
   "source": [
    "#Practice using some of these methods"
   ]
  },
  {
   "cell_type": "code",
   "execution_count": null,
   "metadata": {},
   "outputs": [],
   "source": [
    "#Use tab completion to investigate at least 3 other methods under the df object. \n",
    "#Pull up their docstrings and investigate what they do."
   ]
  },
  {
   "cell_type": "code",
   "execution_count": 10,
   "metadata": {},
   "outputs": [
    {
     "data": {
      "text/html": [
       "<div>\n",
       "<style scoped>\n",
       "    .dataframe tbody tr th:only-of-type {\n",
       "        vertical-align: middle;\n",
       "    }\n",
       "\n",
       "    .dataframe tbody tr th {\n",
       "        vertical-align: top;\n",
       "    }\n",
       "\n",
       "    .dataframe thead th {\n",
       "        text-align: right;\n",
       "    }\n",
       "</style>\n",
       "<table border=\"1\" class=\"dataframe\">\n",
       "  <thead>\n",
       "    <tr style=\"text-align: right;\">\n",
       "      <th></th>\n",
       "      <th>ages</th>\n",
       "      <th>list_price</th>\n",
       "      <th>num_reviews</th>\n",
       "      <th>piece_count</th>\n",
       "      <th>play_star_rating</th>\n",
       "      <th>prod_desc</th>\n",
       "      <th>prod_id</th>\n",
       "      <th>prod_long_desc</th>\n",
       "      <th>review_difficulty</th>\n",
       "      <th>set_name</th>\n",
       "      <th>star_rating</th>\n",
       "      <th>theme_name</th>\n",
       "      <th>val_star_rating</th>\n",
       "      <th>country</th>\n",
       "    </tr>\n",
       "  </thead>\n",
       "  <tbody>\n",
       "    <tr>\n",
       "      <th>0</th>\n",
       "      <td>6-12</td>\n",
       "      <td>29.99</td>\n",
       "      <td>2.0</td>\n",
       "      <td>277.0</td>\n",
       "      <td>4.0</td>\n",
       "      <td>Catapult into action and take back the eggs fr...</td>\n",
       "      <td>75823.0</td>\n",
       "      <td>Use the staircase catapult to launch Red into ...</td>\n",
       "      <td>Average</td>\n",
       "      <td>Bird Island Egg Heist</td>\n",
       "      <td>4.5</td>\n",
       "      <td>Angry Birds™</td>\n",
       "      <td>4.0</td>\n",
       "      <td>US</td>\n",
       "    </tr>\n",
       "    <tr>\n",
       "      <th>1</th>\n",
       "      <td>6-12</td>\n",
       "      <td>19.99</td>\n",
       "      <td>2.0</td>\n",
       "      <td>168.0</td>\n",
       "      <td>4.0</td>\n",
       "      <td>Launch a flying attack and rescue the eggs fro...</td>\n",
       "      <td>75822.0</td>\n",
       "      <td>Pilot Pig has taken off from Bird Island with ...</td>\n",
       "      <td>Easy</td>\n",
       "      <td>Piggy Plane Attack</td>\n",
       "      <td>5.0</td>\n",
       "      <td>Angry Birds™</td>\n",
       "      <td>4.0</td>\n",
       "      <td>US</td>\n",
       "    </tr>\n",
       "    <tr>\n",
       "      <th>2</th>\n",
       "      <td>6-12</td>\n",
       "      <td>12.99</td>\n",
       "      <td>11.0</td>\n",
       "      <td>74.0</td>\n",
       "      <td>4.3</td>\n",
       "      <td>Chase the piggy with lightning-fast Chuck and ...</td>\n",
       "      <td>75821.0</td>\n",
       "      <td>Pitch speedy bird Chuck against the Piggy Car....</td>\n",
       "      <td>Easy</td>\n",
       "      <td>Piggy Car Escape</td>\n",
       "      <td>4.3</td>\n",
       "      <td>Angry Birds™</td>\n",
       "      <td>4.1</td>\n",
       "      <td>US</td>\n",
       "    </tr>\n",
       "    <tr>\n",
       "      <th>3</th>\n",
       "      <td>12+</td>\n",
       "      <td>99.99</td>\n",
       "      <td>23.0</td>\n",
       "      <td>1032.0</td>\n",
       "      <td>3.6</td>\n",
       "      <td>Explore the architecture of the United States ...</td>\n",
       "      <td>21030.0</td>\n",
       "      <td>Discover the architectural secrets of the icon...</td>\n",
       "      <td>Average</td>\n",
       "      <td>United States Capitol Building</td>\n",
       "      <td>4.6</td>\n",
       "      <td>Architecture</td>\n",
       "      <td>4.3</td>\n",
       "      <td>US</td>\n",
       "    </tr>\n",
       "    <tr>\n",
       "      <th>4</th>\n",
       "      <td>12+</td>\n",
       "      <td>79.99</td>\n",
       "      <td>14.0</td>\n",
       "      <td>744.0</td>\n",
       "      <td>3.2</td>\n",
       "      <td>Recreate the Solomon R. Guggenheim Museum® wit...</td>\n",
       "      <td>21035.0</td>\n",
       "      <td>Discover the architectural secrets of Frank Ll...</td>\n",
       "      <td>Challenging</td>\n",
       "      <td>Solomon R. Guggenheim Museum®</td>\n",
       "      <td>4.6</td>\n",
       "      <td>Architecture</td>\n",
       "      <td>4.1</td>\n",
       "      <td>US</td>\n",
       "    </tr>\n",
       "  </tbody>\n",
       "</table>\n",
       "</div>"
      ],
      "text/plain": [
       "   ages  list_price  num_reviews  piece_count  play_star_rating  \\\n",
       "0  6-12       29.99          2.0        277.0               4.0   \n",
       "1  6-12       19.99          2.0        168.0               4.0   \n",
       "2  6-12       12.99         11.0         74.0               4.3   \n",
       "3   12+       99.99         23.0       1032.0               3.6   \n",
       "4   12+       79.99         14.0        744.0               3.2   \n",
       "\n",
       "                                           prod_desc  prod_id  \\\n",
       "0  Catapult into action and take back the eggs fr...  75823.0   \n",
       "1  Launch a flying attack and rescue the eggs fro...  75822.0   \n",
       "2  Chase the piggy with lightning-fast Chuck and ...  75821.0   \n",
       "3  Explore the architecture of the United States ...  21030.0   \n",
       "4  Recreate the Solomon R. Guggenheim Museum® wit...  21035.0   \n",
       "\n",
       "                                      prod_long_desc review_difficulty  \\\n",
       "0  Use the staircase catapult to launch Red into ...           Average   \n",
       "1  Pilot Pig has taken off from Bird Island with ...              Easy   \n",
       "2  Pitch speedy bird Chuck against the Piggy Car....              Easy   \n",
       "3  Discover the architectural secrets of the icon...           Average   \n",
       "4  Discover the architectural secrets of Frank Ll...       Challenging   \n",
       "\n",
       "                         set_name  star_rating    theme_name  val_star_rating  \\\n",
       "0           Bird Island Egg Heist          4.5  Angry Birds™              4.0   \n",
       "1              Piggy Plane Attack          5.0  Angry Birds™              4.0   \n",
       "2                Piggy Car Escape          4.3  Angry Birds™              4.1   \n",
       "3  United States Capitol Building          4.6  Architecture              4.3   \n",
       "4   Solomon R. Guggenheim Museum®          4.6  Architecture              4.1   \n",
       "\n",
       "  country  \n",
       "0      US  \n",
       "1      US  \n",
       "2      US  \n",
       "3      US  \n",
       "4      US  "
      ]
     },
     "execution_count": 10,
     "metadata": {},
     "output_type": "execute_result"
    }
   ],
   "source": [
    "df.head()"
   ]
  },
  {
   "cell_type": "code",
   "execution_count": 32,
   "metadata": {},
   "outputs": [],
   "source": [
    "df.head?"
   ]
  },
  {
   "cell_type": "code",
   "execution_count": 39,
   "metadata": {},
   "outputs": [
    {
     "data": {
      "text/html": [
       "<div>\n",
       "<style scoped>\n",
       "    .dataframe tbody tr th:only-of-type {\n",
       "        vertical-align: middle;\n",
       "    }\n",
       "\n",
       "    .dataframe tbody tr th {\n",
       "        vertical-align: top;\n",
       "    }\n",
       "\n",
       "    .dataframe thead th {\n",
       "        text-align: right;\n",
       "    }\n",
       "</style>\n",
       "<table border=\"1\" class=\"dataframe\">\n",
       "  <thead>\n",
       "    <tr style=\"text-align: right;\">\n",
       "      <th></th>\n",
       "      <th>ages</th>\n",
       "      <th>list_price</th>\n",
       "      <th>num_reviews</th>\n",
       "      <th>piece_count</th>\n",
       "      <th>play_star_rating</th>\n",
       "      <th>prod_desc</th>\n",
       "      <th>prod_id</th>\n",
       "      <th>prod_long_desc</th>\n",
       "      <th>review_difficulty</th>\n",
       "      <th>set_name</th>\n",
       "      <th>star_rating</th>\n",
       "      <th>theme_name</th>\n",
       "      <th>val_star_rating</th>\n",
       "      <th>country</th>\n",
       "    </tr>\n",
       "  </thead>\n",
       "  <tbody>\n",
       "    <tr>\n",
       "      <th>12251</th>\n",
       "      <td>8-14</td>\n",
       "      <td>60.9878</td>\n",
       "      <td>7.0</td>\n",
       "      <td>521.0</td>\n",
       "      <td>4.7</td>\n",
       "      <td>Get all fired up at Garmadon’s Volcano Lair!</td>\n",
       "      <td>70631.0</td>\n",
       "      <td>Join Zane’s mission to infiltrate evil Garmado...</td>\n",
       "      <td>Average</td>\n",
       "      <td>Garmadon's Volcano Lair</td>\n",
       "      <td>4.3</td>\n",
       "      <td>THE LEGO® NINJAGO® MOVIE™</td>\n",
       "      <td>5.0</td>\n",
       "      <td>PT</td>\n",
       "    </tr>\n",
       "    <tr>\n",
       "      <th>12252</th>\n",
       "      <td>8-14</td>\n",
       "      <td>60.9878</td>\n",
       "      <td>29.0</td>\n",
       "      <td>544.0</td>\n",
       "      <td>4.6</td>\n",
       "      <td>Take on Garmadon with the Green Ninja Mech Dra...</td>\n",
       "      <td>70612.0</td>\n",
       "      <td>Outwit The Green Ninja’s evil father Garmadon ...</td>\n",
       "      <td>Average</td>\n",
       "      <td>Green Ninja Mech Dragon</td>\n",
       "      <td>4.7</td>\n",
       "      <td>THE LEGO® NINJAGO® MOVIE™</td>\n",
       "      <td>4.5</td>\n",
       "      <td>PT</td>\n",
       "    </tr>\n",
       "    <tr>\n",
       "      <th>12253</th>\n",
       "      <td>8-14</td>\n",
       "      <td>48.7878</td>\n",
       "      <td>21.0</td>\n",
       "      <td>494.0</td>\n",
       "      <td>4.6</td>\n",
       "      <td>Smash the shark army out of the water with the...</td>\n",
       "      <td>70611.0</td>\n",
       "      <td>Launch into battle against the shark army and ...</td>\n",
       "      <td>Average</td>\n",
       "      <td>Water Strider</td>\n",
       "      <td>4.5</td>\n",
       "      <td>THE LEGO® NINJAGO® MOVIE™</td>\n",
       "      <td>4.8</td>\n",
       "      <td>PT</td>\n",
       "    </tr>\n",
       "    <tr>\n",
       "      <th>12254</th>\n",
       "      <td>7-14</td>\n",
       "      <td>36.5878</td>\n",
       "      <td>10.0</td>\n",
       "      <td>312.0</td>\n",
       "      <td>3.5</td>\n",
       "      <td>Battle against evil Jungle Garmadon on the jun...</td>\n",
       "      <td>70608.0</td>\n",
       "      <td>Team up with Wu and Kai to take on Jungle Garm...</td>\n",
       "      <td>Easy</td>\n",
       "      <td>Master Falls</td>\n",
       "      <td>4.0</td>\n",
       "      <td>THE LEGO® NINJAGO® MOVIE™</td>\n",
       "      <td>3.6</td>\n",
       "      <td>PT</td>\n",
       "    </tr>\n",
       "    <tr>\n",
       "      <th>12255</th>\n",
       "      <td>8-14</td>\n",
       "      <td>36.5878</td>\n",
       "      <td>8.0</td>\n",
       "      <td>341.0</td>\n",
       "      <td>4.2</td>\n",
       "      <td>Take on the tentacular Flying Jelly Sub with Jay!</td>\n",
       "      <td>70610.0</td>\n",
       "      <td>Join ninja Jay in battle against the shark arm...</td>\n",
       "      <td>Average</td>\n",
       "      <td>Flying Jelly Sub</td>\n",
       "      <td>4.6</td>\n",
       "      <td>THE LEGO® NINJAGO® MOVIE™</td>\n",
       "      <td>4.5</td>\n",
       "      <td>PT</td>\n",
       "    </tr>\n",
       "    <tr>\n",
       "      <th>12256</th>\n",
       "      <td>7-14</td>\n",
       "      <td>36.5878</td>\n",
       "      <td>6.0</td>\n",
       "      <td>341.0</td>\n",
       "      <td>4.4</td>\n",
       "      <td>Protect NINJAGO® City from flying Manta Ray Bo...</td>\n",
       "      <td>70609.0</td>\n",
       "      <td>Help Cole save Shen-Li in this cool THE LEGO® ...</td>\n",
       "      <td>Easy</td>\n",
       "      <td>Manta Ray Bomber</td>\n",
       "      <td>4.3</td>\n",
       "      <td>THE LEGO® NINJAGO® MOVIE™</td>\n",
       "      <td>4.2</td>\n",
       "      <td>PT</td>\n",
       "    </tr>\n",
       "    <tr>\n",
       "      <th>12257</th>\n",
       "      <td>7-14</td>\n",
       "      <td>24.3878</td>\n",
       "      <td>8.0</td>\n",
       "      <td>217.0</td>\n",
       "      <td>4.1</td>\n",
       "      <td>Stop a Piranha Attack with Kai and Misako!</td>\n",
       "      <td>70629.0</td>\n",
       "      <td>Play out an action-packed Piranha Mech pursuit...</td>\n",
       "      <td>Easy</td>\n",
       "      <td>Piranha Attack</td>\n",
       "      <td>3.6</td>\n",
       "      <td>THE LEGO® NINJAGO® MOVIE™</td>\n",
       "      <td>4.1</td>\n",
       "      <td>PT</td>\n",
       "    </tr>\n",
       "    <tr>\n",
       "      <th>12258</th>\n",
       "      <td>7-14</td>\n",
       "      <td>24.3878</td>\n",
       "      <td>18.0</td>\n",
       "      <td>233.0</td>\n",
       "      <td>4.6</td>\n",
       "      <td>Stop a crime in the NINJAGO® City street market!</td>\n",
       "      <td>70607.0</td>\n",
       "      <td>Team up with Lloyd Garmadon, Nya and Officer T...</td>\n",
       "      <td>Easy</td>\n",
       "      <td>NINJAGO® City Chase</td>\n",
       "      <td>4.6</td>\n",
       "      <td>THE LEGO® NINJAGO® MOVIE™</td>\n",
       "      <td>4.5</td>\n",
       "      <td>PT</td>\n",
       "    </tr>\n",
       "    <tr>\n",
       "      <th>12259</th>\n",
       "      <td>6-14</td>\n",
       "      <td>12.1878</td>\n",
       "      <td>1.0</td>\n",
       "      <td>48.0</td>\n",
       "      <td>5.0</td>\n",
       "      <td>Achieve Spinjitzu greatness with the Green Ninja!</td>\n",
       "      <td>70628.0</td>\n",
       "      <td>Learn all the skills of Spinjitzu with THE LEG...</td>\n",
       "      <td>Very Easy</td>\n",
       "      <td>Lloyd - Spinjitzu Master</td>\n",
       "      <td>5.0</td>\n",
       "      <td>THE LEGO® NINJAGO® MOVIE™</td>\n",
       "      <td>5.0</td>\n",
       "      <td>PT</td>\n",
       "    </tr>\n",
       "    <tr>\n",
       "      <th>12260</th>\n",
       "      <td>6-14</td>\n",
       "      <td>12.1878</td>\n",
       "      <td>11.0</td>\n",
       "      <td>109.0</td>\n",
       "      <td>4.5</td>\n",
       "      <td>Practice your Spinjitzu skills with Kai and Zane!</td>\n",
       "      <td>70606.0</td>\n",
       "      <td>Join the ninja heroes at the dojo with this ac...</td>\n",
       "      <td>Easy</td>\n",
       "      <td>Spinjitzu Training</td>\n",
       "      <td>4.7</td>\n",
       "      <td>THE LEGO® NINJAGO® MOVIE™</td>\n",
       "      <td>4.8</td>\n",
       "      <td>PT</td>\n",
       "    </tr>\n",
       "  </tbody>\n",
       "</table>\n",
       "</div>"
      ],
      "text/plain": [
       "       ages  list_price  num_reviews  piece_count  play_star_rating  \\\n",
       "12251  8-14     60.9878          7.0        521.0               4.7   \n",
       "12252  8-14     60.9878         29.0        544.0               4.6   \n",
       "12253  8-14     48.7878         21.0        494.0               4.6   \n",
       "12254  7-14     36.5878         10.0        312.0               3.5   \n",
       "12255  8-14     36.5878          8.0        341.0               4.2   \n",
       "12256  7-14     36.5878          6.0        341.0               4.4   \n",
       "12257  7-14     24.3878          8.0        217.0               4.1   \n",
       "12258  7-14     24.3878         18.0        233.0               4.6   \n",
       "12259  6-14     12.1878          1.0         48.0               5.0   \n",
       "12260  6-14     12.1878         11.0        109.0               4.5   \n",
       "\n",
       "                                               prod_desc  prod_id  \\\n",
       "12251       Get all fired up at Garmadon’s Volcano Lair!  70631.0   \n",
       "12252  Take on Garmadon with the Green Ninja Mech Dra...  70612.0   \n",
       "12253  Smash the shark army out of the water with the...  70611.0   \n",
       "12254  Battle against evil Jungle Garmadon on the jun...  70608.0   \n",
       "12255  Take on the tentacular Flying Jelly Sub with Jay!  70610.0   \n",
       "12256  Protect NINJAGO® City from flying Manta Ray Bo...  70609.0   \n",
       "12257         Stop a Piranha Attack with Kai and Misako!  70629.0   \n",
       "12258   Stop a crime in the NINJAGO® City street market!  70607.0   \n",
       "12259  Achieve Spinjitzu greatness with the Green Ninja!  70628.0   \n",
       "12260  Practice your Spinjitzu skills with Kai and Zane!  70606.0   \n",
       "\n",
       "                                          prod_long_desc review_difficulty  \\\n",
       "12251  Join Zane’s mission to infiltrate evil Garmado...           Average   \n",
       "12252  Outwit The Green Ninja’s evil father Garmadon ...           Average   \n",
       "12253  Launch into battle against the shark army and ...           Average   \n",
       "12254  Team up with Wu and Kai to take on Jungle Garm...              Easy   \n",
       "12255  Join ninja Jay in battle against the shark arm...           Average   \n",
       "12256  Help Cole save Shen-Li in this cool THE LEGO® ...              Easy   \n",
       "12257  Play out an action-packed Piranha Mech pursuit...              Easy   \n",
       "12258  Team up with Lloyd Garmadon, Nya and Officer T...              Easy   \n",
       "12259  Learn all the skills of Spinjitzu with THE LEG...         Very Easy   \n",
       "12260  Join the ninja heroes at the dojo with this ac...              Easy   \n",
       "\n",
       "                       set_name  star_rating                 theme_name  \\\n",
       "12251   Garmadon's Volcano Lair          4.3  THE LEGO® NINJAGO® MOVIE™   \n",
       "12252   Green Ninja Mech Dragon          4.7  THE LEGO® NINJAGO® MOVIE™   \n",
       "12253             Water Strider          4.5  THE LEGO® NINJAGO® MOVIE™   \n",
       "12254              Master Falls          4.0  THE LEGO® NINJAGO® MOVIE™   \n",
       "12255          Flying Jelly Sub          4.6  THE LEGO® NINJAGO® MOVIE™   \n",
       "12256          Manta Ray Bomber          4.3  THE LEGO® NINJAGO® MOVIE™   \n",
       "12257            Piranha Attack          3.6  THE LEGO® NINJAGO® MOVIE™   \n",
       "12258       NINJAGO® City Chase          4.6  THE LEGO® NINJAGO® MOVIE™   \n",
       "12259  Lloyd - Spinjitzu Master          5.0  THE LEGO® NINJAGO® MOVIE™   \n",
       "12260        Spinjitzu Training          4.7  THE LEGO® NINJAGO® MOVIE™   \n",
       "\n",
       "       val_star_rating country  \n",
       "12251              5.0      PT  \n",
       "12252              4.5      PT  \n",
       "12253              4.8      PT  \n",
       "12254              3.6      PT  \n",
       "12255              4.5      PT  \n",
       "12256              4.2      PT  \n",
       "12257              4.1      PT  \n",
       "12258              4.5      PT  \n",
       "12259              5.0      PT  \n",
       "12260              4.8      PT  "
      ]
     },
     "execution_count": 39,
     "metadata": {},
     "output_type": "execute_result"
    }
   ],
   "source": [
    "df.tail(10)"
   ]
  },
  {
   "cell_type": "code",
   "execution_count": 33,
   "metadata": {},
   "outputs": [],
   "source": [
    "df.tail?"
   ]
  },
  {
   "cell_type": "code",
   "execution_count": 34,
   "metadata": {},
   "outputs": [
    {
     "name": "stdout",
     "output_type": "stream",
     "text": [
      "<class 'pandas.core.frame.DataFrame'>\n",
      "RangeIndex: 12261 entries, 0 to 12260\n",
      "Data columns (total 14 columns):\n",
      "ages                 12261 non-null object\n",
      "list_price           12261 non-null float64\n",
      "num_reviews          10641 non-null float64\n",
      "piece_count          12261 non-null float64\n",
      "play_star_rating     10486 non-null float64\n",
      "prod_desc            11884 non-null object\n",
      "prod_id              12261 non-null float64\n",
      "prod_long_desc       12261 non-null object\n",
      "review_difficulty    10206 non-null object\n",
      "set_name             12261 non-null object\n",
      "star_rating          10641 non-null float64\n",
      "theme_name           12258 non-null object\n",
      "val_star_rating      10466 non-null float64\n",
      "country              12261 non-null object\n",
      "dtypes: float64(7), object(7)\n",
      "memory usage: 1.3+ MB\n"
     ]
    }
   ],
   "source": [
    "df.info()"
   ]
  },
  {
   "cell_type": "code",
   "execution_count": 35,
   "metadata": {},
   "outputs": [],
   "source": [
    "df.info?"
   ]
  },
  {
   "cell_type": "code",
   "execution_count": 36,
   "metadata": {},
   "outputs": [
    {
     "data": {
      "text/plain": [
       "Index(['ages', 'list_price', 'num_reviews', 'piece_count', 'play_star_rating',\n",
       "       'prod_desc', 'prod_id', 'prod_long_desc', 'review_difficulty',\n",
       "       'set_name', 'star_rating', 'theme_name', 'val_star_rating', 'country'],\n",
       "      dtype='object')"
      ]
     },
     "execution_count": 36,
     "metadata": {},
     "output_type": "execute_result"
    }
   ],
   "source": [
    "df.columns"
   ]
  },
  {
   "cell_type": "code",
   "execution_count": 37,
   "metadata": {},
   "outputs": [],
   "source": [
    "df.columns?"
   ]
  },
  {
   "cell_type": "code",
   "execution_count": 13,
   "metadata": {},
   "outputs": [
    {
     "data": {
      "text/plain": [
       "<bound method NDFrame.keys of        ages  list_price  num_reviews  piece_count  play_star_rating  \\\n",
       "0      6-12     29.9900          2.0        277.0               4.0   \n",
       "1      6-12     19.9900          2.0        168.0               4.0   \n",
       "2      6-12     12.9900         11.0         74.0               4.3   \n",
       "3       12+     99.9900         23.0       1032.0               3.6   \n",
       "4       12+     79.9900         14.0        744.0               3.2   \n",
       "5       12+     59.9900          7.0        597.0               3.7   \n",
       "6       12+     59.9900         37.0        598.0               3.7   \n",
       "7       12+     49.9900         24.0        780.0               4.4   \n",
       "8       12+     39.9900         23.0        468.0               3.6   \n",
       "9       12+     39.9900         11.0        444.0               3.6   \n",
       "10      12+     39.9900         14.0        386.0               4.1   \n",
       "11      12+     34.9900         53.0        321.0               3.2   \n",
       "12      12+     29.9900          7.0        361.0               4.2   \n",
       "13     7-12    159.9900         63.0        847.0               3.8   \n",
       "14      10+     29.9900         13.0        708.0               4.7   \n",
       "15      10+     19.9900          1.0        234.0               3.0   \n",
       "16      10+     19.9900          1.0        160.0               5.0   \n",
       "17      10+      9.9900          1.0        149.0               2.0   \n",
       "18      10+      9.9900          1.0        141.0               2.0   \n",
       "19      10+      9.9900          3.0        101.0               4.0   \n",
       "20      10+      9.9900          2.0        105.0               3.0   \n",
       "21      10+      9.9900          1.0        113.0               5.0   \n",
       "22      10+      9.9900          1.0        136.0               NaN   \n",
       "23      10+      9.9900          2.0         91.0               3.0   \n",
       "24      10+      9.9900          7.0        140.0               3.2   \n",
       "25      10+      9.9900          5.0        143.0               4.6   \n",
       "26      10+      9.9900          3.0        122.0               2.7   \n",
       "27      10+      9.9900          5.0        130.0               4.3   \n",
       "28      10+      9.9900          3.0        119.0               4.5   \n",
       "29      10+      9.9900          1.0        135.0               1.0   \n",
       "...     ...         ...          ...          ...               ...   \n",
       "12231  7-14     48.7878          5.0        267.0               3.6   \n",
       "12232  7-14     48.7878         12.0        293.0               4.9   \n",
       "12233  8-14     42.6878         24.0        305.0               4.5   \n",
       "12234  7-14     42.6878         18.0        254.0               4.2   \n",
       "12235  7-14     30.4878          2.0        198.0               4.0   \n",
       "12236  7-14     30.4878          8.0        204.0               4.1   \n",
       "12237  7-14     30.4878         19.0        201.0               4.1   \n",
       "12238  6-12     18.2878          7.0        141.0               4.0   \n",
       "12239  6-12     18.2878         18.0        124.0               4.5   \n",
       "12240    5+      4.8678         13.0          8.0               4.3   \n",
       "12241  8-14    103.6878          9.0        643.0               4.4   \n",
       "12242   16+    365.9878         88.0       4867.0               4.8   \n",
       "12243  9-14    225.6878         52.0       2295.0               4.7   \n",
       "12244  9-14    134.1878         15.0       1403.0               4.5   \n",
       "12245  9-14    103.6878          9.0        830.0               4.6   \n",
       "12246  9-14    103.6878         11.0       1202.0               4.7   \n",
       "12247  9-14     97.5878          6.0        914.0               4.8   \n",
       "12248  9-14     97.5878         19.0        944.0               3.6   \n",
       "12249  9-14     82.9478          8.0        876.0               4.7   \n",
       "12250  8-14     73.1878          8.0        747.0               4.3   \n",
       "12251  8-14     60.9878          7.0        521.0               4.7   \n",
       "12252  8-14     60.9878         29.0        544.0               4.6   \n",
       "12253  8-14     48.7878         21.0        494.0               4.6   \n",
       "12254  7-14     36.5878         10.0        312.0               3.5   \n",
       "12255  8-14     36.5878          8.0        341.0               4.2   \n",
       "12256  7-14     36.5878          6.0        341.0               4.4   \n",
       "12257  7-14     24.3878          8.0        217.0               4.1   \n",
       "12258  7-14     24.3878         18.0        233.0               4.6   \n",
       "12259  6-14     12.1878          1.0         48.0               5.0   \n",
       "12260  6-14     12.1878         11.0        109.0               4.5   \n",
       "\n",
       "                                               prod_desc  prod_id  \\\n",
       "0      Catapult into action and take back the eggs fr...  75823.0   \n",
       "1      Launch a flying attack and rescue the eggs fro...  75822.0   \n",
       "2      Chase the piggy with lightning-fast Chuck and ...  75821.0   \n",
       "3      Explore the architecture of the United States ...  21030.0   \n",
       "4      Recreate the Solomon R. Guggenheim Museum® wit...  21035.0   \n",
       "5      Celebrate Shanghai with this LEGO® Architectur...  21039.0   \n",
       "6      Celebrate New York City with this LEGO® Archit...  21028.0   \n",
       "7      Recreate Buckingham Palace with LEGO® Architec...  21029.0   \n",
       "8      Celebrate London with this LEGO® Architecture ...  21034.0   \n",
       "9      Celebrate Chicago with this LEGO® Architecture...  21033.0   \n",
       "10       Experience the grandeur of the Arc de Triomphe!  21036.0   \n",
       "11     Build your own LEGO® interpretation of the ico...  21019.0   \n",
       "12     Celebrate Sydney with this LEGO® Architecture ...  21032.0   \n",
       "13                   Bring your LEGO® creations to life!  17101.0   \n",
       "14         Build a LEGO® BrickHeadz version of yourself!  41597.0   \n",
       "15     Train a raptor with LEGO® BrickHeadz™ Owen and...  41614.0   \n",
       "16     Join Mr. Incredible and Frozone for LEGO® Bric...  41613.0   \n",
       "17     Growl like a Wookiee with a LEGO® BrickHeadz™ ...  41609.0   \n",
       "18     Be a rogue with a LEGO® BrickHeadz™ constructi...  41608.0   \n",
       "19     Save the universe with LEGO® BrickHeadz Iron M...  41604.0   \n",
       "20     Feel the power of Infinity with LEGO® BrickHea...  41605.0   \n",
       "21     Be a legendary outlaw with LEGO® BrickHeadz St...  41606.0   \n",
       "22     Master the skills of a green-skinned assassin ...  41607.0   \n",
       "23     Join the Resistance with a LEGO® BrickHeadz co...  41485.0   \n",
       "24     Say “I love you” with a LEGO® BrickHeadz™ Vale...  40270.0   \n",
       "25       Stand tall with LEGO® BrickHeadz Wonder Woman™!  41599.0   \n",
       "26     Live life in the fast lane with LEGO® BrickHea...  41598.0   \n",
       "27     Summon the dark side with a LEGO® BrickHeadz c...  41603.0   \n",
       "28     Feel the Force with a LEGO® BrickHeadz constru...  41602.0   \n",
       "29               Dive in with LEGO® BrickHeadz Aquaman™!  41600.0   \n",
       "...                                                  ...      ...   \n",
       "12231               Party on with Superman™ and friends!  70919.0   \n",
       "12232              Join Batman™ in a comical food fight!  70920.0   \n",
       "12233  Put the heat on The Penguin™ Arctic Roller wit...  70911.0   \n",
       "12234  Battle with Batman™ against The Riddler™ and h...  70903.0   \n",
       "12235  Bring down Captain Boomerang™ with Batman’s Ba...  70918.0   \n",
       "12236  Help Batman™ to stop Scarecrow™ delivering a s...  70910.0   \n",
       "12237  Protect the power plant from Mr. Freeze’s ice ...  70901.0   \n",
       "12238  Power into the sky to stop Scarecrow’s fear ga...  70913.0   \n",
       "12239             Help Batman™ stop The Joker™ escaping!  70900.0   \n",
       "12240  Discover new heroes and villains in LEGO® Mini...  71020.0   \n",
       "12241           Launch a space mission from the Batcave!  70923.0   \n",
       "12242         Live the life of a ninja in NINJAGO® City!  70620.0   \n",
       "12243            Join the ninja aboard Wu’s flying ship!  70618.0   \n",
       "12244                 Evade the traps inside the Temple!  70617.0   \n",
       "12245  Defend NINJAGO® City from Garmadon Shark Mech ...  70656.0   \n",
       "12246   Turn sound into a weapon with Cole’s Quake Mech!  70632.0   \n",
       "12247       Take on the shark army with Zane’s Ice Tank!  70616.0   \n",
       "12248  Put the heat on the shark army with Kai’s Fire...  70615.0   \n",
       "12249      Speed to the rescue with Jay’s Lightning Jet!  70614.0   \n",
       "12250      Defend NINJAGO® City against Garma Mecha Man!  70613.0   \n",
       "12251       Get all fired up at Garmadon’s Volcano Lair!  70631.0   \n",
       "12252  Take on Garmadon with the Green Ninja Mech Dra...  70612.0   \n",
       "12253  Smash the shark army out of the water with the...  70611.0   \n",
       "12254  Battle against evil Jungle Garmadon on the jun...  70608.0   \n",
       "12255  Take on the tentacular Flying Jelly Sub with Jay!  70610.0   \n",
       "12256  Protect NINJAGO® City from flying Manta Ray Bo...  70609.0   \n",
       "12257         Stop a Piranha Attack with Kai and Misako!  70629.0   \n",
       "12258   Stop a crime in the NINJAGO® City street market!  70607.0   \n",
       "12259  Achieve Spinjitzu greatness with the Green Ninja!  70628.0   \n",
       "12260  Practice your Spinjitzu skills with Kai and Zane!  70606.0   \n",
       "\n",
       "                                          prod_long_desc review_difficulty  \\\n",
       "0      Use the staircase catapult to launch Red into ...           Average   \n",
       "1      Pilot Pig has taken off from Bird Island with ...              Easy   \n",
       "2      Pitch speedy bird Chuck against the Piggy Car....              Easy   \n",
       "3      Discover the architectural secrets of the icon...           Average   \n",
       "4      Discover the architectural secrets of Frank Ll...       Challenging   \n",
       "5      Recreate Shanghai in China's blend of historic...           Average   \n",
       "6      Celebrate the architectural diversity of New Y...           Average   \n",
       "7      Build a LEGO® brick model of London's official...           Average   \n",
       "8      Celebrate the architectural diversity of Londo...           Average   \n",
       "9      Recreate Chicago’s blend of historical and mod...           Average   \n",
       "10     Capture the architectural elegance of one of t...           Average   \n",
       "11     Presenting the LEGO® Architecture interpretati...           Average   \n",
       "12     Capture the architectural essence and splendor...              Easy   \n",
       "13     Take your LEGO® play to the next level with th...           Average   \n",
       "14     Fuel your creativity by making a LEGO® BrickHe...           Average   \n",
       "15     These LEGO® BrickHeadz™ 41614 Owen & Blue cons...              Easy   \n",
       "16     These LEGO® BrickHeadz™ 41613 Mr. Incredible &...         Very Easy   \n",
       "17     This LEGO® BrickHeadz™ 41609 Chewbacca is fun ...         Very Easy   \n",
       "18     This LEGO® BrickHeadz™ 41608 Han Solo is fun t...         Very Easy   \n",
       "19     This Iron Man MK50 LEGO® BrickHeadz constructi...           Average   \n",
       "20     This Thanos LEGO® BrickHeadz construction char...              Easy   \n",
       "21     This Star-Lord LEGO® BrickHeadz construction c...              Easy   \n",
       "22     This Gamora LEGO® BrickHeadz construction char...               NaN   \n",
       "23     This LEGO® BrickHeadz construction character f...              Easy   \n",
       "24     Build your way to someone’s heart and say “Bee...              Easy   \n",
       "25     This Wonder Woman™ LEGO® BrickHeadz constructi...              Easy   \n",
       "26     The Flash™ LEGO® BrickHeadz construction chara...         Very Easy   \n",
       "27     This LEGO® BrickHeadz construction character f...              Easy   \n",
       "28     This LEGO® BrickHeadz construction character f...              Easy   \n",
       "29     This Aquaman™ LEGO® BrickHeadz construction ch...         Very Easy   \n",
       "...                                                  ...               ...   \n",
       "12231  Recreate the hilarious scene from THE LEGO® BA...              Easy   \n",
       "12232  Help Batman™ fend off Egghead™ and Condiment K...           Average   \n",
       "12233  Join Batman’s pursuit of The Penguin in THE LE...              Easy   \n",
       "12234  Take on four Super-Villains at once in THE LEG...              Easy   \n",
       "12235  Glide over bumps in the Gotham City streets an...               NaN   \n",
       "12236  Save Gotham City Energy Facility from a fear g...           Average   \n",
       "12237  Help Batman™ defend the Gotham City Energy Fac...              Easy   \n",
       "12238  Team up with Batman™ to stop Scarecrow™ spread...              Easy   \n",
       "12239  Stage a face-off between The Joker™ and Batman...              Easy   \n",
       "12240  Bring exciting new play possibilities to exist...         Very Easy   \n",
       "12241  Take off from the Batcave in The Bat-Space Shu...           Average   \n",
       "12242  Enjoy endless role-play fun in NINJAGO® City, ...       Challenging   \n",
       "12243  Construct Wu’s huge ninja training base, Desti...       Challenging   \n",
       "12244  Join a ninja mission to infiltrate THE LEGO® N...           Average   \n",
       "12245  Help Lloyd to save Nomis and Nancy from Garmad...           Average   \n",
       "12246  Fire ‘soundwaves’ from Cole’s Quake Mech to sa...           Average   \n",
       "12247  Help Zane save Patty Keys and Torben from the ...           Average   \n",
       "12248  Get set for sizzling battle action with this h...           Average   \n",
       "12249  Save Ed and Edna from the shark army’s crab wi...           Average   \n",
       "12250  Help Lloyd protect civilian Pat from attack by...           Average   \n",
       "12251  Join Zane’s mission to infiltrate evil Garmado...           Average   \n",
       "12252  Outwit The Green Ninja’s evil father Garmadon ...           Average   \n",
       "12253  Launch into battle against the shark army and ...           Average   \n",
       "12254  Team up with Wu and Kai to take on Jungle Garm...              Easy   \n",
       "12255  Join ninja Jay in battle against the shark arm...           Average   \n",
       "12256  Help Cole save Shen-Li in this cool THE LEGO® ...              Easy   \n",
       "12257  Play out an action-packed Piranha Mech pursuit...              Easy   \n",
       "12258  Team up with Lloyd Garmadon, Nya and Officer T...              Easy   \n",
       "12259  Learn all the skills of Spinjitzu with THE LEG...         Very Easy   \n",
       "12260  Join the ninja heroes at the dojo with this ac...              Easy   \n",
       "\n",
       "                                     set_name  star_rating  \\\n",
       "0                       Bird Island Egg Heist          4.5   \n",
       "1                          Piggy Plane Attack          5.0   \n",
       "2                            Piggy Car Escape          4.3   \n",
       "3              United States Capitol Building          4.6   \n",
       "4               Solomon R. Guggenheim Museum®          4.6   \n",
       "5                                    Shanghai          4.9   \n",
       "6                               New York City          4.2   \n",
       "7                           Buckingham Palace          4.7   \n",
       "8                                      London          4.7   \n",
       "9                                     Chicago          4.8   \n",
       "10                            Arc de Triomphe          4.4   \n",
       "11                           The Eiffel Tower          4.6   \n",
       "12                                     Sydney          4.6   \n",
       "13                     BOOST Creative Toolbox          3.4   \n",
       "14                                Go Brick Me          4.8   \n",
       "15                                Owen & Blue          5.0   \n",
       "16                   Mr. Incredible & Frozone          5.0   \n",
       "17                                 Chewbacca™          3.0   \n",
       "18                                  Han Solo™          4.0   \n",
       "19                              Iron Man MK50          4.7   \n",
       "20                                     Thanos          5.0   \n",
       "21                                  Star-Lord          5.0   \n",
       "22                                     Gamora          5.0   \n",
       "23                                       Finn          4.5   \n",
       "24                            Valentine's Bee          4.9   \n",
       "25                              Wonder Woman™          5.0   \n",
       "26                                 The Flash™          4.0   \n",
       "27                                  Kylo Ren™          5.0   \n",
       "28                                        Rey          5.0   \n",
       "29                                   Aquaman™          4.0   \n",
       "...                                       ...          ...   \n",
       "12231   The Justice League™ Anniversary Party          3.2   \n",
       "12232                Egghead™ Mech Food Fight          4.8   \n",
       "12233              The Penguin™ Arctic Roller          4.8   \n",
       "12234               The Riddler™ Riddle Racer          4.2   \n",
       "12235                      The Bat-Dune Buggy          4.5   \n",
       "12236             Scarecrow™ Special Delivery          4.4   \n",
       "12237                  Mr. Freeze™ Ice Attack          4.6   \n",
       "12238             Scarecrow™ Fearful Face-off          4.1   \n",
       "12239               The Joker™ Balloon Escape          4.7   \n",
       "12240         THE LEGO® BATMAN MOVIE Series 2          4.8   \n",
       "12241                   The Bat-Space Shuttle          4.8   \n",
       "12242                           NINJAGO® City          4.9   \n",
       "12243                        Destiny's Bounty          4.9   \n",
       "12244  Temple of The Ultimate Ultimate Weapon          4.8   \n",
       "12245           garmadon, Garmadon, GARMADON!          4.9   \n",
       "12246                              Quake Mech          4.5   \n",
       "12247                                Ice Tank          4.8   \n",
       "12248                               Fire Mech          4.2   \n",
       "12249                           Lightning Jet          5.0   \n",
       "12250                         Garma Mecha Man          4.5   \n",
       "12251                 Garmadon's Volcano Lair          4.3   \n",
       "12252                 Green Ninja Mech Dragon          4.7   \n",
       "12253                           Water Strider          4.5   \n",
       "12254                            Master Falls          4.0   \n",
       "12255                        Flying Jelly Sub          4.6   \n",
       "12256                        Manta Ray Bomber          4.3   \n",
       "12257                          Piranha Attack          3.6   \n",
       "12258                     NINJAGO® City Chase          4.6   \n",
       "12259                Lloyd - Spinjitzu Master          5.0   \n",
       "12260                      Spinjitzu Training          4.7   \n",
       "\n",
       "                      theme_name  val_star_rating country  \n",
       "0                   Angry Birds™              4.0      US  \n",
       "1                   Angry Birds™              4.0      US  \n",
       "2                   Angry Birds™              4.1      US  \n",
       "3                   Architecture              4.3      US  \n",
       "4                   Architecture              4.1      US  \n",
       "5                   Architecture              4.4      US  \n",
       "6                   Architecture              4.1      US  \n",
       "7                   Architecture              4.3      US  \n",
       "8                   Architecture              4.1      US  \n",
       "9                   Architecture              4.5      US  \n",
       "10                  Architecture              3.6      US  \n",
       "11                  Architecture              4.4      US  \n",
       "12                  Architecture              4.2      US  \n",
       "13                         BOOST              3.5      US  \n",
       "14                    BrickHeadz              4.8      US  \n",
       "15                    BrickHeadz              5.0      US  \n",
       "16                    BrickHeadz              5.0      US  \n",
       "17                    BrickHeadz              4.0      US  \n",
       "18                    BrickHeadz              4.0      US  \n",
       "19                    BrickHeadz              4.5      US  \n",
       "20                    BrickHeadz              5.0      US  \n",
       "21                    BrickHeadz              5.0      US  \n",
       "22                    BrickHeadz              NaN      US  \n",
       "23                    BrickHeadz              4.0      US  \n",
       "24                    BrickHeadz              4.7      US  \n",
       "25                    BrickHeadz              5.0      US  \n",
       "26                    BrickHeadz              3.0      US  \n",
       "27                    BrickHeadz              4.8      US  \n",
       "28                    BrickHeadz              4.5      US  \n",
       "29                    BrickHeadz              3.0      US  \n",
       "...                          ...              ...     ...  \n",
       "12231     THE LEGO® BATMAN MOVIE              3.4      PT  \n",
       "12232     THE LEGO® BATMAN MOVIE              4.6      PT  \n",
       "12233     THE LEGO® BATMAN MOVIE              4.4      PT  \n",
       "12234     THE LEGO® BATMAN MOVIE              4.4      PT  \n",
       "12235     THE LEGO® BATMAN MOVIE              4.0      PT  \n",
       "12236     THE LEGO® BATMAN MOVIE              4.1      PT  \n",
       "12237     THE LEGO® BATMAN MOVIE              4.4      PT  \n",
       "12238     THE LEGO® BATMAN MOVIE              4.4      PT  \n",
       "12239     THE LEGO® BATMAN MOVIE              4.6      PT  \n",
       "12240                Minifigures              4.0      PT  \n",
       "12241     THE LEGO® BATMAN MOVIE              3.5      PT  \n",
       "12242  THE LEGO® NINJAGO® MOVIE™              4.8      PT  \n",
       "12243  THE LEGO® NINJAGO® MOVIE™              4.8      PT  \n",
       "12244  THE LEGO® NINJAGO® MOVIE™              4.8      PT  \n",
       "12245  THE LEGO® NINJAGO® MOVIE™              4.8      PT  \n",
       "12246  THE LEGO® NINJAGO® MOVIE™              4.4      PT  \n",
       "12247  THE LEGO® NINJAGO® MOVIE™              4.7      PT  \n",
       "12248  THE LEGO® NINJAGO® MOVIE™              4.6      PT  \n",
       "12249  THE LEGO® NINJAGO® MOVIE™              4.6      PT  \n",
       "12250  THE LEGO® NINJAGO® MOVIE™              4.5      PT  \n",
       "12251  THE LEGO® NINJAGO® MOVIE™              5.0      PT  \n",
       "12252  THE LEGO® NINJAGO® MOVIE™              4.5      PT  \n",
       "12253  THE LEGO® NINJAGO® MOVIE™              4.8      PT  \n",
       "12254  THE LEGO® NINJAGO® MOVIE™              3.6      PT  \n",
       "12255  THE LEGO® NINJAGO® MOVIE™              4.5      PT  \n",
       "12256  THE LEGO® NINJAGO® MOVIE™              4.2      PT  \n",
       "12257  THE LEGO® NINJAGO® MOVIE™              4.1      PT  \n",
       "12258  THE LEGO® NINJAGO® MOVIE™              4.5      PT  \n",
       "12259  THE LEGO® NINJAGO® MOVIE™              5.0      PT  \n",
       "12260  THE LEGO® NINJAGO® MOVIE™              4.8      PT  \n",
       "\n",
       "[12261 rows x 14 columns]>"
      ]
     },
     "execution_count": 13,
     "metadata": {},
     "output_type": "execute_result"
    }
   ],
   "source": [
    "df.keys"
   ]
  },
  {
   "cell_type": "code",
   "execution_count": 43,
   "metadata": {},
   "outputs": [],
   "source": [
    "df.keys?"
   ]
  },
  {
   "cell_type": "code",
   "execution_count": 14,
   "metadata": {},
   "outputs": [
    {
     "data": {
      "text/plain": [
       "['ages',\n",
       " 'list_price',\n",
       " 'num_reviews',\n",
       " 'piece_count',\n",
       " 'play_star_rating',\n",
       " 'prod_desc',\n",
       " 'prod_id',\n",
       " 'prod_long_desc',\n",
       " 'review_difficulty',\n",
       " 'set_name',\n",
       " 'star_rating',\n",
       " 'theme_name',\n",
       " 'val_star_rating',\n",
       " 'country']"
      ]
     },
     "execution_count": 14,
     "metadata": {},
     "output_type": "execute_result"
    }
   ],
   "source": [
    "list(df.keys())"
   ]
  },
  {
   "cell_type": "code",
   "execution_count": 39,
   "metadata": {},
   "outputs": [
    {
     "data": {
      "text/plain": [
       "numpy.ndarray"
      ]
     },
     "execution_count": 39,
     "metadata": {},
     "output_type": "execute_result"
    }
   ],
   "source": [
    "type(df.values)"
   ]
  },
  {
   "cell_type": "code",
   "execution_count": 85,
   "metadata": {},
   "outputs": [
    {
     "data": {
      "text/plain": [
       "array(['6-12', 29.99, 2.0, 277.0, 4.0,\n",
       "       'Catapult into action and take back the eggs from the Piggy Trike!',\n",
       "       75823.0,\n",
       "       \"Use the staircase catapult to launch Red into the air and race after the piggy, who is speeding off in the Piggy Trike with the eggs. Help him take the eggs out of the trike's box in this hilarious set, which also features Matilda's House to help Red relax, and a spinning Billy the Sign, based on The Angry BirdsTM Movie. Includes 3 figures.\\nIncludes 3 figures: Red, Matilda and Biker Pig.\\nBird Island Egg Heist features Matilda's House with a staircase catapult and easel, plus a branch, plants, flower elements and a Piggy Trike.\\nPiggy Trike features a giant front wheel, 2 balloons and a box at the rear for eggs.\\nAccessory elements include spinning Billy the Sign, 4 eggs and 2 bird nests.\\nUse Red to get into a fight with Billy the Sign to make it spin!\\nPlace Red inside Matilda's House next to the easel and help him paintto relieve his anger!\\nPlace the eggs in the Piggy Trike's box and watch the piggy zoom off.\\nPosition Red on the staircase catapult and launch him at the Piggy Trike!\\nCreate fun action scenes with a twist from The Angry BirdsTM movie.\\nThis set offers an age-appropriate building experience for children ages 6-12.\\nMatilda's House measures over 5” (15cm) high, 6” (17cm) wide and 3” (9cm) deep.\\nBilly the Sign stands over 2” (7cm) high.\\nPiggy Trike measures over 3” (8cm) high,5” (15c m) long and 2” (6cm) wide.\",\n",
       "       'Average', 'Bird Island Egg Heist', 4.5, 'Angry Birds™', 4.0, 'US'],\n",
       "      dtype=object)"
      ]
     },
     "execution_count": 85,
     "metadata": {},
     "output_type": "execute_result"
    }
   ],
   "source": [
    "df.values[0]"
   ]
  },
  {
   "cell_type": "code",
   "execution_count": 44,
   "metadata": {},
   "outputs": [],
   "source": [
    "df.values?"
   ]
  },
  {
   "cell_type": "code",
   "execution_count": 45,
   "metadata": {},
   "outputs": [
    {
     "data": {
      "text/plain": [
       "['6-12',\n",
       " '6-12',\n",
       " '6-12',\n",
       " '12+',\n",
       " '12+',\n",
       " '12+',\n",
       " '12+',\n",
       " '12+',\n",
       " '12+',\n",
       " '12+',\n",
       " '12+',\n",
       " '12+',\n",
       " '12+',\n",
       " '7-12',\n",
       " '10+']"
      ]
     },
     "execution_count": 45,
     "metadata": {},
     "output_type": "execute_result"
    }
   ],
   "source": [
    "x_values = list(df.ages[0:15])\n",
    "x_values"
   ]
  },
  {
   "cell_type": "code",
   "execution_count": 46,
   "metadata": {},
   "outputs": [
    {
     "data": {
      "text/plain": [
       "[29.99,\n",
       " 19.99,\n",
       " 12.99,\n",
       " 99.99,\n",
       " 79.99,\n",
       " 59.99,\n",
       " 59.99,\n",
       " 49.99,\n",
       " 39.99,\n",
       " 39.99,\n",
       " 39.99,\n",
       " 34.99,\n",
       " 29.99,\n",
       " 159.99,\n",
       " 29.99]"
      ]
     },
     "execution_count": 46,
     "metadata": {},
     "output_type": "execute_result"
    }
   ],
   "source": [
    "y_values = list(df.list_price[0:15])\n",
    "y_values"
   ]
  },
  {
   "cell_type": "code",
   "execution_count": 47,
   "metadata": {},
   "outputs": [
    {
     "data": {
      "text/plain": [
       "15"
      ]
     },
     "execution_count": 47,
     "metadata": {},
     "output_type": "execute_result"
    }
   ],
   "source": [
    "len(x_values)"
   ]
  },
  {
   "cell_type": "code",
   "execution_count": 48,
   "metadata": {},
   "outputs": [
    {
     "data": {
      "text/plain": [
       "True"
      ]
     },
     "execution_count": 48,
     "metadata": {},
     "output_type": "execute_result"
    }
   ],
   "source": [
    "len(x_values) == len(y_values)"
   ]
  },
  {
   "cell_type": "code",
   "execution_count": 49,
   "metadata": {},
   "outputs": [],
   "source": [
    "tests = list(zip(x_values, y_values))"
   ]
  },
  {
   "cell_type": "code",
   "execution_count": 50,
   "metadata": {},
   "outputs": [
    {
     "data": {
      "text/plain": [
       "[('6-12', 29.99),\n",
       " ('6-12', 19.99),\n",
       " ('6-12', 12.99),\n",
       " ('12+', 99.99),\n",
       " ('12+', 79.99),\n",
       " ('12+', 59.99),\n",
       " ('12+', 59.99),\n",
       " ('12+', 49.99),\n",
       " ('12+', 39.99),\n",
       " ('12+', 39.99),\n",
       " ('12+', 39.99),\n",
       " ('12+', 34.99),\n",
       " ('12+', 29.99),\n",
       " ('7-12', 159.99),\n",
       " ('10+', 29.99)]"
      ]
     },
     "execution_count": 50,
     "metadata": {},
     "output_type": "execute_result"
    }
   ],
   "source": [
    "tests"
   ]
  },
  {
   "cell_type": "code",
   "execution_count": 51,
   "metadata": {},
   "outputs": [
    {
     "data": {
      "text/plain": [
       "[('6-12', 12.99),\n",
       " ('6-12', 19.99),\n",
       " ('6-12', 29.99),\n",
       " ('12+', 29.99),\n",
       " ('10+', 29.99),\n",
       " ('12+', 34.99),\n",
       " ('12+', 39.99),\n",
       " ('12+', 39.99),\n",
       " ('12+', 39.99),\n",
       " ('12+', 49.99),\n",
       " ('12+', 59.99),\n",
       " ('12+', 59.99),\n",
       " ('12+', 79.99),\n",
       " ('12+', 99.99),\n",
       " ('7-12', 159.99)]"
      ]
     },
     "execution_count": 51,
     "metadata": {},
     "output_type": "execute_result"
    }
   ],
   "source": [
    "sort_tests = sorted(tests, key=lambda test: test[-1])\n",
    "sort_tests"
   ]
  },
  {
   "cell_type": "code",
   "execution_count": 52,
   "metadata": {},
   "outputs": [
    {
     "data": {
      "text/plain": [
       "0    6-12\n",
       "1    6-12\n",
       "2    6-12\n",
       "3     12+\n",
       "4     12+\n",
       "5     12+\n",
       "6     12+\n",
       "7     12+\n",
       "8     12+\n",
       "9     12+\n",
       "Name: ages, dtype: object"
      ]
     },
     "execution_count": 52,
     "metadata": {},
     "output_type": "execute_result"
    }
   ],
   "source": [
    "df.ages[0:10]"
   ]
  },
  {
   "cell_type": "code",
   "execution_count": 53,
   "metadata": {},
   "outputs": [],
   "source": [
    "df.ages?"
   ]
  },
  {
   "cell_type": "code",
   "execution_count": 54,
   "metadata": {},
   "outputs": [
    {
     "data": {
      "text/plain": [
       "'US'"
      ]
     },
     "execution_count": 54,
     "metadata": {},
     "output_type": "execute_result"
    }
   ],
   "source": [
    "df.country[0]        "
   ]
  },
  {
   "cell_type": "code",
   "execution_count": 31,
   "metadata": {},
   "outputs": [
    {
     "data": {
      "text/plain": [
       "52.0"
      ]
     },
     "execution_count": 31,
     "metadata": {},
     "output_type": "execute_result"
    }
   ],
   "source": [
    "sum(df.num_reviews[0:5])"
   ]
  },
  {
   "cell_type": "code",
   "execution_count": 55,
   "metadata": {},
   "outputs": [],
   "source": [
    "df.num_reviews?"
   ]
  },
  {
   "cell_type": "code",
   "execution_count": 56,
   "metadata": {},
   "outputs": [
    {
     "data": {
      "text/plain": [
       "ages                 12261\n",
       "list_price           12261\n",
       "num_reviews          10641\n",
       "piece_count          12261\n",
       "play_star_rating     10486\n",
       "prod_desc            11884\n",
       "prod_id              12261\n",
       "prod_long_desc       12261\n",
       "review_difficulty    10206\n",
       "set_name             12261\n",
       "star_rating          10641\n",
       "theme_name           12258\n",
       "val_star_rating      10466\n",
       "country              12261\n",
       "dtype: int64"
      ]
     },
     "execution_count": 56,
     "metadata": {},
     "output_type": "execute_result"
    }
   ],
   "source": [
    "df.count()"
   ]
  },
  {
   "cell_type": "code",
   "execution_count": 57,
   "metadata": {},
   "outputs": [],
   "source": [
    "df.count?"
   ]
  },
  {
   "cell_type": "code",
   "execution_count": 58,
   "metadata": {},
   "outputs": [
    {
     "data": {
      "text/plain": [
       "array([['6-12', 29.99, 2.0, ..., 'Angry Birds™', 4.0, 'US'],\n",
       "       ['6-12', 19.99, 2.0, ..., 'Angry Birds™', 4.0, 'US'],\n",
       "       ['6-12', 12.99, 11.0, ..., 'Angry Birds™', 4.1, 'US'],\n",
       "       ...,\n",
       "       ['7-14', 24.3878, 18.0, ..., 'THE LEGO® NINJAGO® MOVIE™', 4.5,\n",
       "        'PT'],\n",
       "       ['6-14', 12.1878, 1.0, ..., 'THE LEGO® NINJAGO® MOVIE™', 5.0,\n",
       "        'PT'],\n",
       "       ['6-14', 12.1878, 11.0, ..., 'THE LEGO® NINJAGO® MOVIE™', 4.8,\n",
       "        'PT']], dtype=object)"
      ]
     },
     "execution_count": 58,
     "metadata": {},
     "output_type": "execute_result"
    }
   ],
   "source": [
    "df.get_values()"
   ]
  },
  {
   "cell_type": "code",
   "execution_count": 59,
   "metadata": {},
   "outputs": [],
   "source": [
    "df.get_values?"
   ]
  },
  {
   "cell_type": "markdown",
   "metadata": {},
   "source": [
    "# Pandas Series\n",
    "\n",
    "While the entire spreadsheet is called a **dataframe**, each individual column is known as a **series**. You can access a specific column of a pandas dataframe one of two ways:  \n",
    "\n",
    "`df['col_name']`\n",
    "\n",
    "or  \n",
    "\n",
    "```df.col_name```\n",
    "\n",
    "First note that in `df['col_name']` we need 'quotations' around the column name. The quotations denote the column name is a **string**, python's built in variable type for storing text. This can alternatively be replaced with double quotes `df[\"col_name\"]`. In general, anything in quotations is a string in python code. Occassionally, with very ill formatted column names with quotations in the names themselves, you may even need to wrap a name in triple quotes `df[\"\"\"col_name\"\"\"]` . This will rarely happen in this particular context, but is also the general pattern for dealing with messy strings.   \n",
    "\n",
    "Note that the second method, `df.col_name`, will only work if there are no spaces within the name of the column. Similarly to tab completion with the command line, this is a primary reason why programers use dashes (-) and underscores (_) in lieu of whitespace in their variable and file names. Also note that no quotations are used when using this format. (The column names have been stored as attributes to the DataFrame object!)"
   ]
  },
  {
   "cell_type": "code",
   "execution_count": null,
   "metadata": {},
   "outputs": [],
   "source": [
    "#Previewing Data"
   ]
  },
  {
   "cell_type": "code",
   "execution_count": 60,
   "metadata": {},
   "outputs": [
    {
     "data": {
      "text/html": [
       "<div>\n",
       "<style scoped>\n",
       "    .dataframe tbody tr th:only-of-type {\n",
       "        vertical-align: middle;\n",
       "    }\n",
       "\n",
       "    .dataframe tbody tr th {\n",
       "        vertical-align: top;\n",
       "    }\n",
       "\n",
       "    .dataframe thead th {\n",
       "        text-align: right;\n",
       "    }\n",
       "</style>\n",
       "<table border=\"1\" class=\"dataframe\">\n",
       "  <thead>\n",
       "    <tr style=\"text-align: right;\">\n",
       "      <th></th>\n",
       "      <th>ages</th>\n",
       "      <th>list_price</th>\n",
       "      <th>num_reviews</th>\n",
       "      <th>piece_count</th>\n",
       "      <th>play_star_rating</th>\n",
       "      <th>prod_desc</th>\n",
       "      <th>prod_id</th>\n",
       "      <th>prod_long_desc</th>\n",
       "      <th>review_difficulty</th>\n",
       "      <th>set_name</th>\n",
       "      <th>star_rating</th>\n",
       "      <th>theme_name</th>\n",
       "      <th>val_star_rating</th>\n",
       "      <th>country</th>\n",
       "    </tr>\n",
       "  </thead>\n",
       "  <tbody>\n",
       "    <tr>\n",
       "      <th>0</th>\n",
       "      <td>6-12</td>\n",
       "      <td>29.99</td>\n",
       "      <td>2.0</td>\n",
       "      <td>277.0</td>\n",
       "      <td>4.0</td>\n",
       "      <td>Catapult into action and take back the eggs fr...</td>\n",
       "      <td>75823.0</td>\n",
       "      <td>Use the staircase catapult to launch Red into ...</td>\n",
       "      <td>Average</td>\n",
       "      <td>Bird Island Egg Heist</td>\n",
       "      <td>4.5</td>\n",
       "      <td>Angry Birds™</td>\n",
       "      <td>4.0</td>\n",
       "      <td>US</td>\n",
       "    </tr>\n",
       "    <tr>\n",
       "      <th>1</th>\n",
       "      <td>6-12</td>\n",
       "      <td>19.99</td>\n",
       "      <td>2.0</td>\n",
       "      <td>168.0</td>\n",
       "      <td>4.0</td>\n",
       "      <td>Launch a flying attack and rescue the eggs fro...</td>\n",
       "      <td>75822.0</td>\n",
       "      <td>Pilot Pig has taken off from Bird Island with ...</td>\n",
       "      <td>Easy</td>\n",
       "      <td>Piggy Plane Attack</td>\n",
       "      <td>5.0</td>\n",
       "      <td>Angry Birds™</td>\n",
       "      <td>4.0</td>\n",
       "      <td>US</td>\n",
       "    </tr>\n",
       "  </tbody>\n",
       "</table>\n",
       "</div>"
      ],
      "text/plain": [
       "   ages  list_price  num_reviews  piece_count  play_star_rating  \\\n",
       "0  6-12       29.99          2.0        277.0               4.0   \n",
       "1  6-12       19.99          2.0        168.0               4.0   \n",
       "\n",
       "                                           prod_desc  prod_id  \\\n",
       "0  Catapult into action and take back the eggs fr...  75823.0   \n",
       "1  Launch a flying attack and rescue the eggs fro...  75822.0   \n",
       "\n",
       "                                      prod_long_desc review_difficulty  \\\n",
       "0  Use the staircase catapult to launch Red into ...           Average   \n",
       "1  Pilot Pig has taken off from Bird Island with ...              Easy   \n",
       "\n",
       "                set_name  star_rating    theme_name  val_star_rating country  \n",
       "0  Bird Island Egg Heist          4.5  Angry Birds™              4.0      US  \n",
       "1     Piggy Plane Attack          5.0  Angry Birds™              4.0      US  "
      ]
     },
     "execution_count": 60,
     "metadata": {},
     "output_type": "execute_result"
    }
   ],
   "source": [
    "df.head(2) #preview your spreadsheet again; 2 keeps it a nice small preview"
   ]
  },
  {
   "cell_type": "code",
   "execution_count": 61,
   "metadata": {},
   "outputs": [
    {
     "data": {
      "text/plain": [
       "0    6-12\n",
       "1    6-12\n",
       "2    6-12\n",
       "3     12+\n",
       "4     12+\n",
       "Name: ages, dtype: object"
      ]
     },
     "execution_count": 61,
     "metadata": {},
     "output_type": "execute_result"
    }
   ],
   "source": [
    "df.ages.head()"
   ]
  },
  {
   "cell_type": "code",
   "execution_count": 62,
   "metadata": {},
   "outputs": [
    {
     "data": {
      "text/plain": [
       "0    6-12\n",
       "1    6-12\n",
       "2    6-12\n",
       "3     12+\n",
       "4     12+\n",
       "Name: ages, dtype: object"
      ]
     },
     "execution_count": 62,
     "metadata": {},
     "output_type": "execute_result"
    }
   ],
   "source": [
    "df.ages[:5] #Here we introduce another new syntax the list slice [:5] this limits us to the first 5 items"
   ]
  },
  {
   "cell_type": "markdown",
   "metadata": {},
   "source": [
    "# List and Series Slices\n",
    "Above, we introduced an entirely new programming pattern called a slice.  \n",
    "The syntax for a slice is `[start:end]`.   \n",
    "\n",
    "You can also pass an additional third parameter `[start:end:count_by]` which will allow you to:  \n",
    "count every other: `[start:end:2]`  \n",
    "count backwards: `start:end:-1]`  \n",
    "or potentially much more cryptic patterns, depending on what you pass.  \n",
    "\n",
    "While we could have also used `df.State.head()`, slicing works for many more datatypes. This includes the previously mentioned *strings* as well as **lists** and other iterable objects. **Series**, the columns of the pandas DataFrame are similar to python's built in *lists*, but also have additional *methods* built in to them that we will continue to investigate."
   ]
  },
  {
   "cell_type": "code",
   "execution_count": 66,
   "metadata": {},
   "outputs": [
    {
     "data": {
      "text/plain": [
       "Series([], Name: piece_count, dtype: float64)"
      ]
     },
     "execution_count": 66,
     "metadata": {},
     "output_type": "execute_result"
    }
   ],
   "source": [
    "df.piece_count[-1:0:2]"
   ]
  },
  {
   "cell_type": "markdown",
   "metadata": {},
   "source": [
    "# Common Series Methods\n",
    "Some very useful series methods include:  \n",
    "* df.col_name.value_counts()\n",
    "* df.col_name.astype()\n",
    "* series.mean()     #Changing notation here: series refers to df.col_name (which is a series)!\n",
    "* series.median()\n",
    "* series.min()\n",
    "* series.max()\n",
    "* series.std()\n",
    "* series.unique()\n",
    "* series.nunique()\n",
    "* series.sample()\n",
    "* series.sort_values()\n",
    "\n",
    "There are also many more but this is a very good starting point.\n",
    "Start pulling up some docstrings and getting acquainted with reading them yourself before we go through a few of these methods together."
   ]
  },
  {
   "cell_type": "code",
   "execution_count": 70,
   "metadata": {},
   "outputs": [
    {
     "ename": "SyntaxError",
     "evalue": "invalid syntax (<ipython-input-70-b034a89c317a>, line 1)",
     "output_type": "error",
     "traceback": [
      "\u001b[0;36m  File \u001b[0;32m\"<ipython-input-70-b034a89c317a>\"\u001b[0;36m, line \u001b[0;32m1\u001b[0m\n\u001b[0;31m    df.play_star_rating.value_counts? #Read the docstring and tinker! See how it works.\u001b[0m\n\u001b[0m                                    ^\u001b[0m\n\u001b[0;31mSyntaxError\u001b[0m\u001b[0;31m:\u001b[0m invalid syntax\n"
     ]
    }
   ],
   "source": [
    "df.play_star_rating.value_counts? #Read the docstring and tinker! See how it works."
   ]
  },
  {
   "cell_type": "code",
   "execution_count": 92,
   "metadata": {},
   "outputs": [],
   "source": [
    "df.play_star_rating.value_counts?"
   ]
  },
  {
   "cell_type": "code",
   "execution_count": 103,
   "metadata": {},
   "outputs": [
    {
     "data": {
      "text/plain": [
       "(3.667, 5.0]      9165\n",
       "(2.333, 3.667]    1089\n",
       "(0.995, 2.333]     232\n",
       "Name: play_star_rating, dtype: int64"
      ]
     },
     "execution_count": 103,
     "metadata": {},
     "output_type": "execute_result"
    }
   ],
   "source": [
    "df.play_star_rating.value_counts(bins=3)"
   ]
  },
  {
   "cell_type": "code",
   "execution_count": 104,
   "metadata": {},
   "outputs": [
    {
     "data": {
      "text/plain": [
       "1.0000000000000002"
      ]
     },
     "execution_count": 104,
     "metadata": {},
     "output_type": "execute_result"
    }
   ],
   "source": [
    "sum(df.play_star_rating.value_counts(5.0))"
   ]
  },
  {
   "cell_type": "code",
   "execution_count": 107,
   "metadata": {},
   "outputs": [
    {
     "data": {
      "text/plain": [
       "2.1       2\n",
       "2.8       2\n",
       "3.1       4\n",
       "2.3      20\n",
       "2.9      21\n",
       "3.4      25\n",
       "2.5      42\n",
       "2.2      42\n",
       "1.0      42\n",
       "2.7      64\n",
       "3.3     120\n",
       "2.0     126\n",
       "3.8     148\n",
       "3.7     186\n",
       "3.2     192\n",
       "3.0     202\n",
       "3.5     204\n",
       "4.9     204\n",
       "3.6     213\n",
       "3.9     281\n",
       "4.1     320\n",
       "4.2     467\n",
       "4.8     504\n",
       "4.4     566\n",
       "4.6     685\n",
       "4.3     793\n",
       "4.0     816\n",
       "4.7     840\n",
       "4.5    1136\n",
       "5.0    2219\n",
       "Name: play_star_rating, dtype: int64"
      ]
     },
     "execution_count": 107,
     "metadata": {},
     "output_type": "execute_result"
    }
   ],
   "source": [
    "df.play_star_rating.value_counts()[::-1]"
   ]
  },
  {
   "cell_type": "code",
   "execution_count": null,
   "metadata": {},
   "outputs": [],
   "source": [
    "#Keep tinkering!"
   ]
  },
  {
   "cell_type": "markdown",
   "metadata": {},
   "source": [
    "# Graphing\n",
    "\n",
    "Our bread and butter tool for graphing in python will be **matplotlib**. \n",
    "There are a number of other packages you can also check out for visualization later on such as plotly, folium, and bokeh to name a few, but matplotlib is an industry standard used widely. As with the pandas package, we must import  the matplotlib package to use its built in functions and methods. Rather then import the entire package however, we import only the piece we intend to use (hence the dot notation) and again alias this under the shorthand *plt*. Finally, the iPython magic command **% matplotlib inline** makes these graphs appear within our jupyter notebook."
   ]
  },
  {
   "cell_type": "code",
   "execution_count": 97,
   "metadata": {},
   "outputs": [],
   "source": [
    "#import a subset of the matplotlib package under the alias 'plt'\n",
    "import matplotlib.pyplot as plt\n",
    "\n",
    "#ipython magic command for displaying graphs within the notebook\n",
    "%matplotlib inline"
   ]
  },
  {
   "cell_type": "code",
   "execution_count": 98,
   "metadata": {},
   "outputs": [
    {
     "data": {
      "text/plain": [
       "<matplotlib.axes._subplots.AxesSubplot at 0x11b5a5320>"
      ]
     },
     "execution_count": 98,
     "metadata": {},
     "output_type": "execute_result"
    },
    {
     "data": {
      "image/png": "[encoded data removed]",
      "text/plain": [
       "<Figure size 432x288 with 1 Axes>"
      ]
     },
     "metadata": {
      "needs_background": "light"
     },
     "output_type": "display_data"
    }
   ],
   "source": [
    "to_graph = df.theme_name.value_counts()[:5]\n",
    "to_graph.plot(kind='barh')"
   ]
  },
  {
   "cell_type": "markdown",
   "metadata": {},
   "source": [
    "# Adding labels\n",
    "The graph above is a good start, but we should be sure to add some labels! To do this we make successive calls to the `plt` package we imported. Some common methods you should be familiar with include:  \n",
    "* plt.title()\n",
    "* plt.xlabel()\n",
    "* plt.ylabel()\n",
    "* plt.legend()\n",
    "* plt.xticks()\n",
    "* plt.yticks()"
   ]
  },
  {
   "cell_type": "code",
   "execution_count": 99,
   "metadata": {},
   "outputs": [
    {
     "data": {
      "text/plain": [
       "Text(0, 0.5, 'Theme')"
      ]
     },
     "execution_count": 99,
     "metadata": {},
     "output_type": "execute_result"
    },
    {
     "data": {
      "image/png": "[encoded data removed]",
      "text/plain": [
       "<Figure size 432x288 with 1 Axes>"
      ]
     },
     "metadata": {
      "needs_background": "light"
     },
     "output_type": "display_data"
    }
   ],
   "source": [
    "to_graph = df.theme_name.value_counts()[:5]\n",
    "to_graph.plot(kind='barh') #lots of other optional parameters can be passed such as color\n",
    "plt.title('Top 5 Lego Themes', fontsize=16) #fontsize is optional\n",
    "plt.xlabel('Number of Lego Sets') #you could also pass in fontsize if you wanted here\n",
    "plt.ylabel('Theme') #you could also rotate text if you wanted"
   ]
  },
  {
   "cell_type": "markdown",
   "metadata": {},
   "source": [
    "# Practice and Explore\n",
    "\n",
    "Take a minute to try chaining some of these methods together to create a few of your own visuals for practice. Some ideas can include making a scatter plot with `plt.scatter(x , y)` where you pass in two series (one as x and the other as y), plotting histograms with the `series.hist()` method, or creating simple bar graphs as shown above."
   ]
  },
  {
   "cell_type": "code",
   "execution_count": 124,
   "metadata": {},
   "outputs": [
    {
     "data": {
      "text/plain": [
       "(array([12.,  2.,  1.]),\n",
       " array([ 12.99,  61.99, 110.99, 159.99]),\n",
       " <a list of 3 Patch objects>)"
      ]
     },
     "execution_count": 124,
     "metadata": {},
     "output_type": "execute_result"
    },
    {
     "data": {
      "image/png": "[encoded data removed]",
      "text/plain": [
       "<Figure size 432x288 with 2 Axes>"
      ]
     },
     "metadata": {
      "needs_background": "light"
     },
     "output_type": "display_data"
    }
   ],
   "source": [
    "N_points = len\n",
    "n_bins = 3\n",
    "\n",
    "\n",
    "x = x_values\n",
    "y = y_values\n",
    "\n",
    "fig, axs = plt.subplots(1, 2)\n",
    "plt.title('Not the Most Useful Histogram', fontsize=16)\n",
    "\n",
    "axs[0].hist(x, bins=n_bins)\n",
    "axs[1].hist(y, bins=n_bins)"
   ]
  },
  {
   "cell_type": "code",
   "execution_count": 108,
   "metadata": {},
   "outputs": [
    {
     "data": {
      "text/plain": [
       "<matplotlib.collections.PathCollection at 0x11bfee780>"
      ]
     },
     "execution_count": 108,
     "metadata": {},
     "output_type": "execute_result"
    },
    {
     "data": {
      "image/png": "[encoded data removed]",
      "text/plain": [
       "<Figure size 432x288 with 1 Axes>"
      ]
     },
     "metadata": {
      "needs_background": "light"
     },
     "output_type": "display_data"
    }
   ],
   "source": [
    "plt.scatter(df.play_star_rating, df.star_rating)"
   ]
  },
  {
   "cell_type": "code",
   "execution_count": 109,
   "metadata": {},
   "outputs": [
    {
     "data": {
      "text/plain": [
       "<matplotlib.axes._subplots.AxesSubplot at 0x11c0e5c50>"
      ]
     },
     "execution_count": 109,
     "metadata": {},
     "output_type": "execute_result"
    },
    {
     "data": {
      "image/png": "[encoded data removed]",
      "text/plain": [
       "<Figure size 432x288 with 1 Axes>"
      ]
     },
     "metadata": {
      "needs_background": "light"
     },
     "output_type": "display_data"
    }
   ],
   "source": [
    "df.play_star_rating.hist()"
   ]
  },
  {
   "cell_type": "code",
   "execution_count": 115,
   "metadata": {},
   "outputs": [
    {
     "data": {
      "text/plain": [
       "<matplotlib.collections.PathCollection at 0x11b628860>"
      ]
     },
     "execution_count": 115,
     "metadata": {},
     "output_type": "execute_result"
    },
    {
     "data": {
      "image/png": "[encoded data removed]",
      "text/plain": [
       "<Figure size 432x288 with 1 Axes>"
      ]
     },
     "metadata": {
      "needs_background": "light"
     },
     "output_type": "display_data"
    }
   ],
   "source": [
    "plt.scatter(x_values, y_values)"
   ]
  },
  {
   "cell_type": "code",
   "execution_count": 117,
   "metadata": {
    "scrolled": true
   },
   "outputs": [
    {
     "data": {
      "text/plain": [
       "<BarContainer object of 15 artists>"
      ]
     },
     "execution_count": 117,
     "metadata": {},
     "output_type": "execute_result"
    },
    {
     "data": {
      "image/png": "[encoded data removed]",
      "text/plain": [
       "<Figure size 432x288 with 1 Axes>"
      ]
     },
     "metadata": {
      "needs_background": "light"
     },
     "output_type": "display_data"
    }
   ],
   "source": [
    "plt.bar(x_values, y_values)"
   ]
  },
  {
   "cell_type": "markdown",
   "metadata": {},
   "source": [
    "'x_values' and 'y_values' variables defined are above:\n",
    "x_values = list(df.ages[0:15])\n",
    "y_values = list(df.list_price[0:15])"
   ]
  }
 ],
 "metadata": {
  "kernelspec": {
   "display_name": "learn-env",
   "language": "python",
   "name": "learn-env"
  },
  "language_info": {
   "codemirror_mode": {
    "name": "ipython",
    "version": 3
   },
   "file_extension": ".py",
   "mimetype": "text/x-python",
   "name": "python",
   "nbconvert_exporter": "python",
   "pygments_lexer": "ipython3",
   "version": "3.6.8"
  }
 },
 "nbformat": 4,
 "nbformat_minor": 2
}
